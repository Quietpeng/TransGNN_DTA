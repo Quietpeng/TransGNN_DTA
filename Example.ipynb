{
 "cells": [
  {
   "cell_type": "markdown",
   "id": "0efcb096",
   "metadata": {},
   "source": [
    "# TransGNN_DTA 药物-靶点亲和力预测模型使用指南\n",
    "> 基于Transformer与GNN的药物-靶点亲和力预测模型，支持多数据集训练与预测。  \n",
    "> 作者：Quietpeng（[GitHub](https://github.com/Quietpeng)），相关论文已发表（如需引用请参考项目README）。"
   ]
  },
  {
   "cell_type": "markdown",
   "id": "2afe2b42",
   "metadata": {},
   "source": [
    "### 一、环境配置与项目初始化\n",
    "#### 1.1 克隆项目仓库"
   ]
  },
  {
   "cell_type": "code",
   "execution_count": null,
   "id": "34b93497",
   "metadata": {},
   "outputs": [],
   "source": [
    "# 克隆仓库（已克隆可忽略）\n",
    "!git clone https://github.com/Quietpeng/TransGNN_DTA.git\n",
    "%cd TransGNN_DTA"
   ]
  },
  {
   "cell_type": "markdown",
   "id": "a7b8daae",
   "metadata": {},
   "source": [
    "#### 1.2 创建并激活虚拟环境（推荐最佳实践）"
   ]
  },
  {
   "cell_type": "code",
   "execution_count": null,
   "id": "7d6d2d7f",
   "metadata": {},
   "outputs": [],
   "source": [
    "# 创建Python虚拟环境（基于Python 3.12）\n",
    "!python -m venv transgnn_env\n",
    "# 激活环境（Linux/macOS）\n",
    "!source transgnn_env/bin/activate\n",
    "# Windows环境请使用：.\\transgnn_env\\Scripts\\activate"
   ]
  },
  {
   "cell_type": "markdown",
   "id": "f5b1ad1e",
   "metadata": {},
   "source": [
    "#### 1.3 安装依赖包"
   ]
  },
  {
   "cell_type": "code",
   "execution_count": null,
   "id": "f959a6c6",
   "metadata": {},
   "outputs": [],
   "source": [
    "# 安装项目依赖（需提前根据硬件配置安装PyTorch与CUDA）\n",
    "!pip install -r requirements.txt\n",
    "# 可选：安装后台管理工具（用于远程训练监控）\n",
    "!sudo apt install screen -y && sudo apt update"
   ]
  },
  {
   "cell_type": "markdown",
   "id": "8dba5dad",
   "metadata": {},
   "source": [
    "### 二、模型训练流程\n",
    "#### 2.1 配置说明\n",
    "**命令行配置信息**\n",
    "| 参数名称       | 类型    | 默认值   | 说明                                                                 |\n",
    "|----------------|---------|----------|----------------------------------------------------------------------|\n",
    "| `b`    | int     | 32       | 训练批次大小，建议根据GPU内存调整（如32GB GPU可尝试64）             |\n",
    "| `epochs`       | int     | 200      | 最大训练轮次，结合早停机制使用                                       |\n",
    "| `dataset`      | str     | `raw_davis` | 数据集选择，支持`raw_davis`/`raw_kiba`/`benchmark_davis`等          |\n",
    "| `lr`           | float   | 5e-4     | 初始学习率，配合AdamW优化器与学习率调度器动态调整                    |\n",
    "| `model_config` | str     | `config.json` | 模型结构配置文件路径，包含嵌入维度、序列最大长度等关键参数          |\n",
    "\n",
    "**超参数配置文件路径**：`config.json`（需提前根据数据集调整`drug_max_seq`与`target_max_seq`）"
   ]
  },
  {
   "cell_type": "markdown",
   "id": "ffb4ff00",
   "metadata": {},
   "source": [
    "#### 2.2 快速启动训练（推荐后台运行）"
   ]
  },
  {
   "cell_type": "code",
   "execution_count": null,
   "id": "6ee53f1e",
   "metadata": {},
   "outputs": [],
   "source": [
    "# 方式1：默认参数启动（结果输出至result.log）\n",
    "!python train_reg.py &> result.log "
   ]
  },
  {
   "cell_type": "code",
   "execution_count": null,
   "id": "ab8312a5",
   "metadata": {},
   "outputs": [],
   "source": [
    "# 方式2：指定参数启动（示例：使用raw_kiba数据集，批次大小128）\n",
    "!python train_reg.py --dataset raw_kiba --batchsize 128 --lr 1e-4 &> result.log "
   ]
  },
  {
   "cell_type": "markdown",
   "id": "32524135",
   "metadata": {},
   "source": [
    "**注意事项**：\n",
    "- 训练建议使用GPU（如32GB vGPU），笔记本电脑可能因资源不足导致崩溃\n",
    "- 使用`screen`工具后台运行："
   ]
  },
  {
   "cell_type": "code",
   "execution_count": null,
   "id": "655959ba",
   "metadata": {},
   "outputs": [],
   "source": [
    "!screen -S transgnn_train  # 创建新会话\n",
    "  # 执行训练命令后按Ctrl+A+D退出会话\n",
    "!screen -r transgnn_train   # 恢复会话"
   ]
  },
  {
   "cell_type": "markdown",
   "id": "a290ce98",
   "metadata": {},
   "source": [
    "#### 2.3 训练监控与可视化\n",
    "**可视化地址**：http://localhost:6006（本地）或服务器公网IP:6006（需开放防火墙）"
   ]
  },
  {
   "cell_type": "code",
   "execution_count": null,
   "id": "d498fc00",
   "metadata": {},
   "outputs": [],
   "source": [
    "# 启动TensorBoard监控（默认端口6006，需提前安装screen）\n",
    "!screen -dmS tensorboard bash -c 'tensorboard --logdir=log --host=0.0.0.0'\n",
    "# 远程访问需配置端口转发：ssh -L 6006:localhost:6006 user@server_ip"
   ]
  },
  {
   "cell_type": "markdown",
   "id": "d9159cec",
   "metadata": {},
   "source": [
    "### 三、模型预测流程\n",
    "#### 3.1 加载预训练模型与配置"
   ]
  },
  {
   "cell_type": "code",
   "execution_count": null,
   "id": "d6284d59",
   "metadata": {},
   "outputs": [],
   "source": [
    "import torch\n",
    "import json\n",
    "from preprocess import drug_encoder, target_encoder\n",
    "from double_towers import TransGNNModel\n",
    "\n",
    "# 示例数据（药物SMILES与蛋白质序列）\n",
    "DRUG_EXAMPLE = \"CC1=C(C=C(C=C1)NC2=NC=CC(=N2)N(C)C3=CC4=NN(C(=C4C=C3)C)C)S(=O)(=O)Cl\"\n",
    "PROTEIN_EXAMPLE = \"MRGARGAWDFLCVLLLLLRVQTGSSQPSVSPGEPSPPSIHPGKSDLIVRVGDEIRLLCTDP\"\n",
    "\n",
    "# 配置文件与模型路径\n",
    "MODEL_CONFIG_PATH = \"config.json\"\n",
    "MODEL_PATH = \"./models/DAVIS_bestCI_model_reg1.pth\"  # 替换为实际训练好的模型路径"
   ]
  },
  {
   "cell_type": "markdown",
   "id": "9c668246",
   "metadata": {},
   "source": [
    "#### 3.2 模型初始化与设备配置"
   ]
  },
  {
   "cell_type": "code",
   "execution_count": null,
   "id": "43413642",
   "metadata": {},
   "outputs": [],
   "source": [
    "# 加载模型配置\n",
    "model_config = json.load(open(MODEL_CONFIG_PATH, 'r'))\n",
    "# 初始化模型\n",
    "model = TransGNNModel(model_config)\n",
    "# 检查是否有可用的 GPU\n",
    "use_cuda = torch.cuda.is_available()\n",
    "device = torch.device('cuda:0' if use_cuda else 'cpu')\n",
    "model = model.to(device)\n",
    "\n",
    "# 加载训练好的模型权重\n",
    "try:\n",
    "    checkpoint = torch.load(MODEL_PATH, map_location=device, weights_only=True)\n",
    "    # 调整 decoder 层的输入维度\n",
    "    model.decoder[0] = nn.Linear(list(checkpoint['decoder.0.weight'].shape)[1], model.decoder[0].out_features).to(device)\n",
    "    model.load_state_dict(checkpoint)\n",
    "    print(\"Successfully loaded model state from checkpoint.\")\n",
    "except Exception as e:\n",
    "    print(f\"Error loading checkpoint: {e}\")\n",
    "\n",
    "model.eval()"
   ]
  },
  {
   "cell_type": "markdown",
   "id": "b65cee59",
   "metadata": {},
   "source": [
    "#### 3.3 数据预处理与预测"
   ]
  },
  {
   "cell_type": "code",
   "execution_count": null,
   "id": "29bb03b6",
   "metadata": {},
   "outputs": [],
   "source": [
    "# 序列编码（返回特征向量与掩码）\n",
    "d_out, mask_d_out = drug_encoder(DRUG_EXAMPLE)\n",
    "t_out, mask_t_out = target_encoder(PROTEIN_EXAMPLE)\n",
    "\n",
    "# 转换为张量并移动至设备\n",
    "d_tensor = torch.LongTensor(d_out).unsqueeze(0).to(device)\n",
    "mask_d_tensor = torch.LongTensor(mask_d_out).unsqueeze(0).to(device)\n",
    "t_tensor = torch.LongTensor(t_out).unsqueeze(0).to(device)\n",
    "mask_t_tensor = torch.LongTensor(mask_t_out).unsqueeze(0).to(device)\n",
    "\n",
    "# 执行预测\n",
    "with torch.no_grad():\n",
    "    prediction = model(d_tensor, t_tensor, mask_d_tensor, mask_t_tensor).cpu().numpy()\n",
    "\n",
    "print(f\"亲和力预测值：{prediction[0][0]:.4f}\")  # 输出格式化为4位小数"
   ]
  },
  {
   "cell_type": "markdown",
   "id": "b66e3920",
   "metadata": {},
   "source": [
    "### 四、高级功能说明\n",
    "#### 4.1 早停机制与邮件通知\n",
    "- **早停配置**：在`config.json`中设置`early_stopping_patience`（默认20轮）\n",
    "- **邮件通知**：启用邮箱配置后，训练完成/失败时自动发送通知  \n",
    "  ```json\n",
    "  \"email\": {\n",
    "    \"enabled\": true,\n",
    "    \"sender_email\": \"your_email@example.com\",\n",
    "    \"sender_password\": \"授权码\",\n",
    "    \"receiver_email\": \"recipient@example.com\",\n",
    "    \"smtp_server\": \"smtp.qq.com\",  # 以QQ邮箱为例\n",
    "    \"smtp_port\": 465\n",
    "  }\n",
    "  ```"
   ]
  },
  {
   "cell_type": "markdown",
   "id": "908e2e89",
   "metadata": {},
   "source": [
    "#### 4.2 多卡训练支持\n",
    "如需使用多GPU训练，修改`train_reg.py`中数据加载部分：  \n",
    "```python\n",
    "# 添加 DistributedDataParallel 支持（示例）\n",
    "if torch.cuda.device_count() > 1:\n",
    "    model = torch.nn.DataParallel(model)\n",
    "```"
   ]
  },
  {
   "cell_type": "markdown",
   "id": "e5eabc90",
   "metadata": {},
   "source": [
    "### 五、引用建议\n",
    "若使用本模型进行研究，请在论文中引用 \n",
    "<!-- ```bibtex\n",
    "@article{quietpeng2023transgnn,\n",
    "  title={TransGNN: A Hybrid Transformer-GNN Architecture for Drug-Target Affinity Prediction},\n",
    "  author={Quietpeng},\n",
    "  journal={Journal of Computational Biology},\n",
    "  year={2023},\n",
    "  volume={30},\n",
    "  number={5},\n",
    "  pages={891-903}\n",
    "}\n",
    "``` -->"
   ]
  }
 ],
 "metadata": {
  "kernelspec": {
   "display_name": "base",
   "language": "python",
   "name": "python3"
  },
  "language_info": {
   "codemirror_mode": {
    "name": "ipython",
    "version": 3
   },
   "file_extension": ".py",
   "mimetype": "text/x-python",
   "name": "python",
   "nbconvert_exporter": "python",
   "pygments_lexer": "ipython3",
   "version": "3.12.3"
  }
 },
 "nbformat": 4,
 "nbformat_minor": 5
}
